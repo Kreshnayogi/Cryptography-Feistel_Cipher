{
  "cells": [
    {
      "cell_type": "markdown",
      "metadata": {
        "id": "jBNiffk-m-V7"
      },
      "source": [
        "Question"
      ]
    },
    {
      "cell_type": "code",
      "execution_count": 1,
      "metadata": {
        "id": "03nYxWRLfSF1"
      },
      "outputs": [],
      "source": [
        "# Build a symmetric block cipher with the following requirements:\n",
        "# Must be a Feistel structure with 16 rounds\n",
        "# Input plaintext = 32-bit block\n",
        "# Output ciphertext = 32-bit block\n",
        "# Key = 32 bits, producing subkey of 16 bits for each round\n",
        "# The function F must implements operations defined on GF(2^16)\n",
        "# Implements CBC mode for plaintext longer than 32 bits"
      ]
    },
    {
      "cell_type": "markdown",
      "metadata": {
        "id": "AyiAQ0L8zPW6"
      },
      "source": [
        "Extra Methods"
      ]
    },
    {
      "cell_type": "code",
      "execution_count": 2,
      "metadata": {
        "id": "duCp_1iozQpX"
      },
      "outputs": [],
      "source": [
        "def add_padding(text, block_size):\n",
        "    temp = (len(text) % block_size)\n",
        "    if(temp == 0):\n",
        "       padding_length = temp\n",
        "    else:\n",
        "      padding_length = block_size - (len(text) % block_size)\n",
        "    padded_text = text + '0' * padding_length\n",
        "    return padded_text\n",
        "#added padding to make sure the CBC function works\n",
        "\n",
        "def binary_converter(string):\n",
        "    result = ''\n",
        "\n",
        "    for char in string:\n",
        "        binary_char = bin(ord(char))[2:].zfill(8)  #convert character to ASCII code, then to binary\n",
        "        result += binary_char\n",
        "\n",
        "    return result\n",
        "\n",
        "def string_converter(string):\n",
        "    blocks = [string[i:i+8] for i in range(0, len(string), 8)] #split the binary string into 8-bit blocks\n",
        "\n",
        "    letters = [chr(int(chunk, 2)) for chunk in blocks] #convert each block back to ASCII character\n",
        "\n",
        "    return ''.join(letters)\n",
        "\n",
        "def remove_padding(text):\n",
        "    temp = text[-8:]\n",
        "\n",
        "    while(temp == '00000000'):\n",
        "      text = text[:-8]\n",
        "      temp = text[-8:]\n",
        "\n",
        "    return format(text)"
      ]
    },
    {
      "cell_type": "markdown",
      "metadata": {
        "id": "p1RhXl1jsVKe"
      },
      "source": [
        "Feistel Methods"
      ]
    },
    {
      "cell_type": "code",
      "execution_count": 3,
      "metadata": {
        "id": "9Jh1YwQpsUm9"
      },
      "outputs": [],
      "source": [
        "def AdditionGF16(text, key):  #XOR\n",
        "    result = text ^ key\n",
        "    return (result)\n",
        "\n",
        "\n",
        "def SubKeyGen(key, round): #Complex Subkey Generator\n",
        "    Rkey = (key << round | key >> (32 - round)) & 0xFFFFFFFF #Permutating the key by shifting it based on the round number\n",
        "    left = Rkey >> 16\n",
        "    right = Rkey & 0xFFFF\n",
        "\n",
        "    subkey = AdditionGF16(left, right) #XOR the right and left side to get the round key\n",
        "\n",
        "    return (subkey)\n",
        "\n",
        "\n",
        "def Feistel(text, key, round = 0):\n",
        "  if(round<16):\n",
        "\n",
        "    subkey = SubKeyGen(key, round)\n",
        "\n",
        "    left = text >> 16\n",
        "    right = text & 0xFFFF\n",
        "    F = AdditionGF16(right, subkey) #F Function\n",
        "\n",
        "    Nright = AdditionGF16(left, F)\n",
        "    Nleft = right\n",
        "\n",
        "    newtext = (Nleft << 16) | Nright\n",
        "    print('Round ', round+1, ' result :' , format(newtext, '032b'))\n",
        "\n",
        "    return Feistel(newtext, key, round + 1)\n",
        "\n",
        "  else:\n",
        "    left = text >> 16\n",
        "    right = text & 0xFFFF\n",
        "    final = (right << 16) | left # Last Swap for Output 17\n",
        "    return (final)\n",
        "    return block ^ key\n"
      ]
    },
    {
      "cell_type": "markdown",
      "metadata": {
        "id": "PFa2cD6nu5Ko"
      },
      "source": [
        "CBC Methods"
      ]
    },
    {
      "cell_type": "code",
      "execution_count": 4,
      "metadata": {
        "id": "UoWvI-G-u3yy"
      },
      "outputs": [],
      "source": [
        "def CBC(text, key): #CBC Funcion\n",
        "  round = int(len(text) / len(key))\n",
        "  temp = round\n",
        "  n = 0\n",
        "  keys = int(key, 2)\n",
        "  c = keys\n",
        "  count = 1\n",
        "  encrypted_blocks = []\n",
        "  while(round>0):\n",
        "    print('C : ', format(c, '032b'))\n",
        "    temp = int(text[n:n+len(key)], 2)\n",
        "    res = AdditionGF16(c, temp)\n",
        "    result = Feistel(res, keys)\n",
        "    c = result\n",
        "    round -= 1\n",
        "    n += len(key)\n",
        "    count += 1\n",
        "    encrypted_blocks.append(format(result, '032b'))\n",
        "\n",
        "\n",
        "  encrypted_text = ''.join(encrypted_blocks)\n",
        "  return encrypted_text"
      ]
    },
    {
      "cell_type": "markdown",
      "metadata": {
        "id": "U9oz1KLM4BaX"
      },
      "source": [
        "DECRYPT"
      ]
    },
    {
      "cell_type": "code",
      "execution_count": 5,
      "metadata": {
        "id": "SVmcudr_4DUz"
      },
      "outputs": [],
      "source": [
        "def ReverseFeistel(text, key, round = 0):\n",
        "    if(round<16):\n",
        "\n",
        "      subkey = SubKeyGen(key, 15 - round)\n",
        "\n",
        "      left = text >> 16\n",
        "      right = text & 0xFFFF\n",
        "      F = AdditionGF16(right, subkey) #F Function\n",
        "\n",
        "      Nright = AdditionGF16(left, F)\n",
        "      Nleft = right\n",
        "\n",
        "      newtext = (Nleft << 16) | Nright\n",
        "      print('Round ', round+1, ' result :' , format(newtext, '032b'))\n",
        "\n",
        "      return ReverseFeistel(newtext, key, round + 1)\n",
        "\n",
        "    else:\n",
        "      left = text >> 16\n",
        "      right = text & 0xFFFF\n",
        "      final = (right << 16) | left # Last Swap for Output 17\n",
        "      return (final)\n",
        "\n",
        "\n",
        "def CBC_decrypt(text, key): #decryption of CBC function\n",
        "    round = int(len(text) / len(key))\n",
        "    key_int = int(key, 2)\n",
        "    block_size = len(key)\n",
        "    decrypted_text = ''\n",
        "    prev_block = key_int  # Initialize previous block with key for CBC decryption\n",
        "    n = 0\n",
        "    while (round>0):\n",
        "        block = int(text[n:n + block_size], 2)\n",
        "        print('C : ', format(block, '032b'))\n",
        "        decrypted_block = ReverseFeistel(block, key_int)\n",
        "        plain_block = decrypted_block ^ prev_block\n",
        "        prev_block = block  # Update previous block for next iteration\n",
        "        decrypted_text += format(plain_block, '032b')\n",
        "        n += block_size\n",
        "        round -= 1\n",
        "    return decrypted_text"
      ]
    },
    {
      "cell_type": "markdown",
      "metadata": {
        "id": "4BDxmjxrShHS"
      },
      "source": [
        "HASH"
      ]
    },
    {
      "cell_type": "code",
      "execution_count": 6,
      "metadata": {
        "id": "jCoKIcT2Sfqn"
      },
      "outputs": [],
      "source": [
        "def rotate(key):\n",
        "    right = key >> 15\n",
        "    left = key & 0b111111111111111\n",
        "    shifted = left << 1 | right\n",
        "    return(shifted)\n",
        "\n",
        "def HashPad(M):\n",
        "    l = len(M)\n",
        "    while(l%16!=0):\n",
        "      M = M + '0'\n",
        "      l = len(M)\n",
        "\n",
        "    return(M)\n",
        "\n",
        "def HMAC(M,HashK):\n",
        "    ipad = 0b0011011000110110 #36 H repeated twice for 16 block\n",
        "    opad = 0b0101110001011100 #5C H repeated twice for 16 block\n",
        "\n",
        "    tempK = int(HashK,2)\n",
        "    Ki = tempK ^ ipad\n",
        "    Ko = tempK ^ opad\n",
        "\n",
        "    tempM = M\n",
        "    IV = 0b0000000000000000 ^ Ki\n",
        "    while(len(tempM)>0):\n",
        "      IV = rotate(IV)\n",
        "      temp = int(tempM[:16],2)\n",
        "      IV = IV ^ temp\n",
        "      tempM = tempM[16:]\n",
        "\n",
        "    print('Hash               : ', format(IV,'016b'))\n",
        "\n",
        "    Ko = rotate(Ko)\n",
        "    IV = IV ^ Ko\n",
        "\n",
        "    return(format(IV, '016b'))\n"
      ]
    },
    {
      "cell_type": "markdown",
      "metadata": {
        "id": "Cl5rr4_HW8iM"
      },
      "source": [
        "CODE RUNNER"
      ]
    },
    {
      "cell_type": "code",
      "execution_count": 7,
      "metadata": {
        "colab": {
          "base_uri": "https://localhost:8080/"
        },
        "id": "FB5aMKX_VhX_",
        "outputId": "acdc44c8-ffb3-4d07-9b75-f748caf57c46"
      },
      "outputs": [
        {
          "output_type": "stream",
          "name": "stdout",
          "text": [
            "PlainText          :  Hai\n",
            "BinaryText         :  010010000110000101101001\n",
            "\n",
            "HashPadded         :  01001000011000010110100100000000\n",
            "Hash               :  0010000100111010\n",
            "HMAC               :  1001100110010010\n",
            "\n",
            "PaddedText         :  01001000011000010110100100000000\n",
            "\n",
            "ENCRYPTION\n",
            "\n",
            "Round  1  result : 01101001000000001001111011000000\n",
            "Round  2  result : 10011110110000001000100010000011\n",
            "Round  3  result : 10001000100000111110100011000101\n",
            "Round  4  result : 11101000110001011001110101001011\n",
            "Round  5  result : 10011101010010111000111110010101\n",
            "Round  6  result : 10001111100101011110011011101001\n",
            "Round  7  result : 11100110111010011000000100010011\n",
            "Round  8  result : 10000001000100111011011100100101\n",
            "Round  9  result : 10110111001001011001011110001001\n",
            "Round  10  result : 10010111100010010110001111010011\n",
            "Round  11  result : 01100011110100110111001010100100\n",
            "Round  12  result : 01110010101001000001110010001010\n",
            "Round  13  result : 00011100100010100111010111010100\n",
            "Round  14  result : 01110101110101000101111010101010\n",
            "Round  15  result : 01011110101010100100010010010110\n",
            "Round  16  result : 01000100100101101100010111101100\n",
            "\n",
            "CipherBinary     :  11000101111011000100010010010110\n",
            "\n",
            "Final(with Hash) :  100110011001001011000101111011000100010010010110\n"
          ]
        }
      ],
      "source": [
        "plain_text = 'Hai'\n",
        "key  = '11100101101011100101101000001111'\n",
        "hashkey = '1000'\n",
        "\n",
        "print('PlainText          : ', plain_text)\n",
        "\n",
        "text = binary_converter(plain_text)\n",
        "print('BinaryText         : ', text)\n",
        "\n",
        "HashPadded = HashPad(text)\n",
        "print('\\nHashPadded         : ', HashPadded)\n",
        "H = HMAC(HashPadded, hashkey)\n",
        "print('HMAC               : ', H)\n",
        "\n",
        "#Add padding as necessary\n",
        "text = add_padding(text, len(key))\n",
        "print('\\nPaddedText         : ', text)\n",
        "\n",
        "print('\\nENCRYPTION\\n')\n",
        "#encryption\n",
        "if(len(text)>32):\n",
        "  CipherText = CBC(text, key)\n",
        "else:\n",
        "  text = int(text, 2)\n",
        "  key = int(key, 2)\n",
        "  CipherText = format(Feistel(text, key),'032b')\n",
        "\n",
        "\n",
        "print(\"\\nCipherBinary     : \", CipherText)\n",
        "print(\"\\nFinal(with Hash) : \", H + CipherText)\n",
        "\n",
        "#CipherText = string_converter(CipherText)\n",
        "\n",
        "#print(\"CipherText       : \", CipherText,)\n",
        "\n",
        "#CipherText = binary_converter(CipherText) #turn back the string back to binary for decryption\n",
        "\n",
        "#print('\\nDECRYPTION\\n')\n",
        "\n",
        "#if(len(CipherText)>32):\n",
        "#  DecryptedText = CBC_decrypt(CipherText, key)\n",
        "#  print('\\nDecryptedText      : ', DecryptedText)\n",
        "#else:\n",
        "#  CipherText = int(CipherText, 2)\n",
        "#  DecryptedText = format(ReverseFeistel(CipherText, key), '032b')\n",
        "#  print('\\nDecryptedText      : ', DecryptedText)\n",
        "\n",
        "#stringbin = remove_padding(DecryptedText) #remove padding as necessary\n",
        "\n",
        "#string = string_converter(stringbin)\n",
        "#print('Decrypted Message  : ',string)"
      ]
    }
  ],
  "metadata": {
    "colab": {
      "provenance": []
    },
    "kernelspec": {
      "display_name": "Python 3",
      "name": "python3"
    },
    "language_info": {
      "name": "python"
    }
  },
  "nbformat": 4,
  "nbformat_minor": 0
}